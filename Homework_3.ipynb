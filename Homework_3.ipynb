{
 "cells": [
  {
   "cell_type": "markdown",
   "metadata": {},
   "source": [
    "## Домашнее задание по теме \"Функции потерь. Оптимизация\""
   ]
  },
  {
   "cell_type": "code",
   "execution_count": 1,
   "metadata": {},
   "outputs": [],
   "source": [
    "import numpy as np\n",
    "from sklearn.datasets import make_blobs\n",
    "from sklearn.model_selection import train_test_split\n",
    "from sklearn.metrics import accuracy_score\n",
    "import matplotlib.pyplot as plt"
   ]
  },
  {
   "cell_type": "code",
   "execution_count": 2,
   "metadata": {},
   "outputs": [
    {
     "data": {
      "image/png": "[encoded data removed]",
      "text/plain": [
       "<Figure size 432x288 with 1 Axes>"
      ]
     },
     "metadata": {
      "needs_background": "light"
     },
     "output_type": "display_data"
    }
   ],
   "source": [
    "N = 100\n",
    "X = np.random.uniform(low=0, high=100, size=N)\n",
    "Y = 2*X + 1 + np.random.normal(scale=5, size=N)\n",
    "\n",
    "plt.scatter(X, Y)\n",
    "plt.show()"
   ]
  },
  {
   "cell_type": "markdown",
   "metadata": {},
   "source": [
    "## Применим метод градиентного спуска"
   ]
  },
  {
   "cell_type": "code",
   "execution_count": 28,
   "metadata": {},
   "outputs": [],
   "source": [
    "EPOCHS = 20\n",
    "LEARNING_RATE = 0.0001"
   ]
  },
  {
   "cell_type": "code",
   "execution_count": 29,
   "metadata": {},
   "outputs": [],
   "source": [
    "def cost_function(X, y, theta0, theta1):\n",
    "    total_cost = 0\n",
    "    for i in range(len(X)):\n",
    "        total_cost += (theta0 + theta1*X[i] - y[i]) ** 2\n",
    "    return total_cost / (2 * len(X))"
   ]
  },
  {
   "cell_type": "code",
   "execution_count": 30,
   "metadata": {},
   "outputs": [],
   "source": [
    "def der_theta0(X, y, theta0, theta1):\n",
    "    total_cost = 0\n",
    "    for i in range(len(X)):\n",
    "        total_cost += (theta0 + theta1*X[i] - y[i])\n",
    "    return total_cost / (len(X))    "
   ]
  },
  {
   "cell_type": "code",
   "execution_count": 31,
   "metadata": {},
   "outputs": [],
   "source": [
    "def der_theta1(X, y, theta0, theta1):\n",
    "    total_cost = 0\n",
    "    for i in range(len(X)):\n",
    "        total_cost += (theta0 + theta1*X[i] - y[i]) * X[i]\n",
    "    return total_cost / (len(X))  "
   ]
  },
  {
   "cell_type": "code",
   "execution_count": 33,
   "metadata": {},
   "outputs": [
    {
     "name": "stdout",
     "output_type": "stream",
     "text": [
      "t0: 1.0054425385021308 t1: 1.3807483190494343 cost: 748.3492049723867\n",
      "t0: 1.0088203036712857 t1: 1.617140170542379 cost: 295.3791646690156\n",
      "t0: 1.0109161313574868 t1: 1.7639067019519876 cost: 120.77346125564137\n",
      "t0: 1.0122160539139646 t1: 1.8550283555391327 cost: 53.46845436371875\n",
      "t0: 1.0130218299384888 t1: 1.9116022672045538 cost: 27.524491068911146\n",
      "t0: 1.0135208096161297 t1: 1.946726828658319 cost: 17.52390915840484\n",
      "t0: 1.0138293113951609 t1: 1.9685343222252707 cost: 13.668999306886294\n",
      "t0: 1.0140195528792297 t1: 1.9820737659279886 cost: 12.183052735255462\n",
      "t0: 1.0141363711715992 t1: 1.9904798988193042 cost: 11.610266997395637\n",
      "t0: 1.0142076038870251 t1: 1.9956989585409537 cost: 11.389476039453859\n",
      "t0: 1.01425053431856 t1: 1.9989392884013497 cost: 11.304367997937364\n",
      "t0: 1.014275892991119 t1: 2.0009511017966757 cost: 11.271561453092612\n",
      "t0: 1.0142903420705645 t1: 2.002200177066493 cost: 11.258915490187325\n",
      "t0: 1.0142980178367442 t1: 2.002975697878686 cost: 11.254040797515287\n",
      "t0: 1.0143014883450532 t1: 2.0034572071331036 cost: 11.25216168509286\n",
      "t0: 1.0143023480012738 t1: 2.003756176038067 cost: 11.251437274640374\n",
      "t0: 1.0143015867099874 t1: 2.0039418127343325 cost: 11.25115796548185\n",
      "t0: 1.0142998190644732 t1: 2.0040570858666222 cost: 11.251050228875664\n",
      "t0: 1.014297426641811 t1: 2.004128672996405 cost: 11.251008628095189\n",
      "t0: 1.0142946463483782 t1: 2.004173137184735 cost: 11.25099252059859\n"
     ]
    }
   ],
   "source": [
    "theta0 = 1\n",
    "theta1 = 1\n",
    "gamma = 0.9\n",
    "for _ in range(EPOCHS):\n",
    "    dt0 = der_theta0(X, Y, theta0, theta1)\n",
    "    dt1 = der_theta1(X, Y, theta0, theta1)\n",
    "    \n",
    "    theta0 = theta0 - LEARNING_RATE * dt0\n",
    "    theta1 -= LEARNING_RATE * dt1\n",
    "    \n",
    "    print(\"t0:\", theta0, \"t1:\", theta1, \"cost:\", cost_function(X, Y, theta0, theta1))"
   ]
  },
  {
   "cell_type": "markdown",
   "metadata": {},
   "source": [
    " ## Применим метод nesterov momentum"
   ]
  },
  {
   "cell_type": "code",
   "execution_count": 21,
   "metadata": {},
   "outputs": [
    {
     "name": "stdout",
     "output_type": "stream",
     "text": [
      ">0 theta0: 1.00544, theta1: 1.38075, cost: 748.34920 \n",
      ">1 theta0: 1.01045, theta1: 1.73136, cost: 152.44024 \n",
      ">2 theta0: 1.01343, theta1: 1.94001, cost: 19.07470 \n",
      ">3 theta0: 1.01467, theta1: 2.02696, cost: 12.22903 \n",
      ">4 theta0: 1.01492, theta1: 2.04443, cost: 14.31286 \n",
      ">5 theta0: 1.01477, theta1: 2.03444, cost: 12.97930 \n",
      ">6 theta0: 1.01456, theta1: 2.01999, cost: 11.72112 \n",
      ">7 theta0: 1.01440, theta1: 2.00969, cost: 11.30716 \n",
      ">8 theta0: 1.01433, theta1: 2.00453, cost: 11.25114 \n",
      ">9 theta0: 1.01430, theta1: 2.00288, cost: 11.25453 \n",
      ">10 theta0: 1.01429, theta1: 2.00290, cost: 11.25442 \n",
      ">11 theta0: 1.01430, theta1: 2.00342, cost: 11.25229 \n",
      ">12 theta0: 1.01430, theta1: 2.00389, cost: 11.25123 \n",
      ">13 theta0: 1.01430, theta1: 2.00416, cost: 11.25100 \n",
      ">14 theta0: 1.01429, theta1: 2.00428, cost: 11.25098 \n",
      ">15 theta0: 1.01429, theta1: 2.00430, cost: 11.25099 \n",
      ">16 theta0: 1.01428, theta1: 2.00429, cost: 11.25099 \n",
      ">17 theta0: 1.01428, theta1: 2.00427, cost: 11.25098 \n",
      ">18 theta0: 1.01427, theta1: 2.00425, cost: 11.25098 \n",
      ">19 theta0: 1.01427, theta1: 2.00425, cost: 11.25098 \n"
     ]
    }
   ],
   "source": [
    "theta0 = 1\n",
    "theta1 = 1\n",
    "vt0 = 0  # экспоненциальные скользящие средние\n",
    "vt1 = 0\n",
    "gamma = 0.3 # коэффициент сохранения\n",
    "lr = 0.0001\n",
    "EPOCHS = 20\n",
    "\n",
    "for i in range(EPOCHS):\n",
    "    # градиент\n",
    "    dt0 = der_theta0(X, Y, theta0, theta1)\n",
    "    dt1 = der_theta1(X, Y, theta0, theta1)\n",
    "\n",
    "    # накапливаем градиент\n",
    "    vt0 = gamma*vt0 + lr*dt0\n",
    "    vt1 = gamma*vt1 + lr*dt1\n",
    "    \n",
    "    # новые значения параметров\n",
    "    theta0 -= vt0\n",
    "    theta1 -= vt1\n",
    "    \n",
    "    print('>%d theta0: %.5f, theta1: %.5f, cost: %.5f ' % (i, theta0, theta1, cost_function(X, Y, theta0, theta1)))"
   ]
  },
  {
   "cell_type": "code",
   "execution_count": 24,
   "metadata": {},
   "outputs": [],
   "source": [
    "# Наблюдаем, что метод с накоплением импульса Нестерова (при условии корректного подбора гиперпараметров) \n",
    "#сошёлся на несколько итераций быстрее обычного градиентного спуска."
   ]
  },
  {
   "cell_type": "markdown",
   "metadata": {},
   "source": [
    "## Применим метод #RMSprop"
   ]
  },
  {
   "cell_type": "code",
   "execution_count": 25,
   "metadata": {},
   "outputs": [
    {
     "name": "stdout",
     "output_type": "stream",
     "text": [
      ">0 theta0: 1.01195, theta1: 1.01195, cost: 1877.58458 \n",
      ">1 theta0: 1.02241, theta1: 1.02241, cost: 1837.91548 \n",
      ">2 theta0: 1.03250, theta1: 1.03250, cost: 1799.99584 \n",
      ">3 theta0: 1.04250, theta1: 1.04250, cost: 1762.84664 \n",
      ">4 theta0: 1.05247, theta1: 1.05247, cost: 1726.19814 \n",
      ">5 theta0: 1.06243, theta1: 1.06243, cost: 1689.97140 \n",
      ">6 theta0: 1.07238, theta1: 1.07238, cost: 1654.14290 \n",
      ">7 theta0: 1.08234, theta1: 1.08234, cost: 1618.70561 \n",
      ">8 theta0: 1.09229, theta1: 1.09229, cost: 1583.65737 \n",
      ">9 theta0: 1.10224, theta1: 1.10224, cost: 1548.99755 \n",
      ">10 theta0: 1.11219, theta1: 1.11219, cost: 1514.72594 \n",
      ">11 theta0: 1.12214, theta1: 1.12215, cost: 1480.84245 \n",
      ">12 theta0: 1.13209, theta1: 1.13210, cost: 1447.34704 \n",
      ">13 theta0: 1.14204, theta1: 1.14205, cost: 1414.23970 \n",
      ">14 theta0: 1.15199, theta1: 1.15200, cost: 1381.52039 \n",
      ">15 theta0: 1.16194, theta1: 1.16195, cost: 1349.18909 \n",
      ">16 theta0: 1.17189, theta1: 1.17189, cost: 1317.24577 \n",
      ">17 theta0: 1.18184, theta1: 1.18184, cost: 1285.69042 \n",
      ">18 theta0: 1.19178, theta1: 1.19179, cost: 1254.52301 \n",
      ">19 theta0: 1.20173, theta1: 1.20173, cost: 1223.74350 \n",
      ">20 theta0: 1.21168, theta1: 1.21168, cost: 1193.35188 \n",
      ">21 theta0: 1.22162, theta1: 1.22163, cost: 1163.34812 \n",
      ">22 theta0: 1.23156, theta1: 1.23157, cost: 1133.73219 \n",
      ">23 theta0: 1.24151, theta1: 1.24151, cost: 1104.50406 \n",
      ">24 theta0: 1.25145, theta1: 1.25146, cost: 1075.66370 \n",
      ">25 theta0: 1.26139, theta1: 1.26140, cost: 1047.21108 \n",
      ">26 theta0: 1.27133, theta1: 1.27134, cost: 1019.14618 \n",
      ">27 theta0: 1.28127, theta1: 1.28128, cost: 991.46895 \n",
      ">28 theta0: 1.29121, theta1: 1.29122, cost: 964.17937 \n",
      ">29 theta0: 1.30115, theta1: 1.30116, cost: 937.27741 \n",
      ">30 theta0: 1.31109, theta1: 1.31110, cost: 910.76302 \n",
      ">31 theta0: 1.32102, theta1: 1.32103, cost: 884.63617 \n",
      ">32 theta0: 1.33096, theta1: 1.33097, cost: 858.89684 \n",
      ">33 theta0: 1.34090, theta1: 1.34091, cost: 833.54497 \n",
      ">34 theta0: 1.35083, theta1: 1.35084, cost: 808.58053 \n",
      ">35 theta0: 1.36076, theta1: 1.36077, cost: 784.00348 \n",
      ">36 theta0: 1.37069, theta1: 1.37070, cost: 759.81379 \n",
      ">37 theta0: 1.38062, theta1: 1.38064, cost: 736.01140 \n",
      ">38 theta0: 1.39055, theta1: 1.39057, cost: 712.59627 \n",
      ">39 theta0: 1.40048, theta1: 1.40049, cost: 689.56836 \n",
      ">40 theta0: 1.41041, theta1: 1.41042, cost: 666.92761 \n",
      ">41 theta0: 1.42033, theta1: 1.42035, cost: 644.67399 \n",
      ">42 theta0: 1.43026, theta1: 1.43027, cost: 622.80745 \n",
      ">43 theta0: 1.44018, theta1: 1.44020, cost: 601.32792 \n",
      ">44 theta0: 1.45010, theta1: 1.45012, cost: 580.23536 \n",
      ">45 theta0: 1.46002, theta1: 1.46004, cost: 559.52970 \n",
      ">46 theta0: 1.46994, theta1: 1.46996, cost: 539.21090 \n",
      ">47 theta0: 1.47986, theta1: 1.47988, cost: 519.27890 \n",
      ">48 theta0: 1.48977, theta1: 1.48979, cost: 499.73362 \n",
      ">49 theta0: 1.49969, theta1: 1.49971, cost: 480.57500 \n",
      ">50 theta0: 1.50960, theta1: 1.50962, cost: 461.80299 \n",
      ">51 theta0: 1.51951, theta1: 1.51953, cost: 443.41750 \n",
      ">52 theta0: 1.52942, theta1: 1.52944, cost: 425.41846 \n",
      ">53 theta0: 1.53933, theta1: 1.53935, cost: 407.80580 \n",
      ">54 theta0: 1.54923, theta1: 1.54925, cost: 390.57944 \n",
      ">55 theta0: 1.55913, theta1: 1.55916, cost: 373.73930 \n",
      ">56 theta0: 1.56903, theta1: 1.56906, cost: 357.28528 \n",
      ">57 theta0: 1.57893, theta1: 1.57896, cost: 341.21730 \n",
      ">58 theta0: 1.58882, theta1: 1.58885, cost: 325.53526 \n",
      ">59 theta0: 1.59872, theta1: 1.59875, cost: 310.23906 \n",
      ">60 theta0: 1.60861, theta1: 1.60864, cost: 295.32859 \n",
      ">61 theta0: 1.61849, theta1: 1.61853, cost: 280.80376 \n",
      ">62 theta0: 1.62838, theta1: 1.62841, cost: 266.66442 \n",
      ">63 theta0: 1.63826, theta1: 1.63829, cost: 252.91048 \n",
      ">64 theta0: 1.64813, theta1: 1.64817, cost: 239.54179 \n",
      ">65 theta0: 1.65801, theta1: 1.65805, cost: 226.55822 \n",
      ">66 theta0: 1.66788, theta1: 1.66792, cost: 213.95963 \n",
      ">67 theta0: 1.67774, theta1: 1.67779, cost: 201.74585 \n",
      ">68 theta0: 1.68760, theta1: 1.68765, cost: 189.91674 \n",
      ">69 theta0: 1.69746, theta1: 1.69751, cost: 178.47210 \n",
      ">70 theta0: 1.70731, theta1: 1.70736, cost: 167.41176 \n",
      ">71 theta0: 1.71716, theta1: 1.71721, cost: 156.73552 \n",
      ">72 theta0: 1.72700, theta1: 1.72706, cost: 146.44316 \n",
      ">73 theta0: 1.73684, theta1: 1.73689, cost: 136.53446 \n",
      ">74 theta0: 1.74667, theta1: 1.74673, cost: 127.00917 \n",
      ">75 theta0: 1.75649, theta1: 1.75655, cost: 117.86703 \n",
      ">76 theta0: 1.76630, theta1: 1.76637, cost: 109.10774 \n",
      ">77 theta0: 1.77611, theta1: 1.77618, cost: 100.73099 \n",
      ">78 theta0: 1.78590, theta1: 1.78598, cost: 92.73644 \n",
      ">79 theta0: 1.79569, theta1: 1.79577, cost: 85.12372 \n",
      ">80 theta0: 1.80547, theta1: 1.80555, cost: 77.89242 \n",
      ">81 theta0: 1.81523, theta1: 1.81532, cost: 71.04208 \n",
      ">82 theta0: 1.82498, theta1: 1.82508, cost: 64.57220 \n",
      ">83 theta0: 1.83472, theta1: 1.83482, cost: 58.48222 \n",
      ">84 theta0: 1.84444, theta1: 1.84455, cost: 52.77150 \n",
      ">85 theta0: 1.85414, theta1: 1.85426, cost: 47.43933 \n",
      ">86 theta0: 1.86381, theta1: 1.86395, cost: 42.48490 \n",
      ">87 theta0: 1.87347, theta1: 1.87361, cost: 37.90727 \n",
      ">88 theta0: 1.88309, theta1: 1.88325, cost: 33.70534 \n",
      ">89 theta0: 1.89268, theta1: 1.89286, cost: 29.87784 \n",
      ">90 theta0: 1.90222, theta1: 1.90243, cost: 26.42325 \n",
      ">91 theta0: 1.91172, theta1: 1.91195, cost: 23.33972 \n",
      ">92 theta0: 1.92115, theta1: 1.92141, cost: 20.62497 \n",
      ">93 theta0: 1.93050, theta1: 1.93081, cost: 18.27612 \n",
      ">94 theta0: 1.93974, theta1: 1.94011, cost: 16.28945 \n",
      ">95 theta0: 1.94884, theta1: 1.94929, cost: 14.65992 \n",
      ">96 theta0: 1.95772, theta1: 1.95829, cost: 13.38044 \n",
      ">97 theta0: 1.96625, theta1: 1.96704, cost: 12.44040 \n",
      ">98 theta0: 1.97419, theta1: 1.97536, cost: 11.82254 \n",
      ">99 theta0: 1.98086, theta1: 1.98292, cost: 11.49547 \n",
      ">100 theta0: 1.98405, theta1: 1.98885, cost: 11.39411 \n",
      ">101 theta0: 1.97844, theta1: 1.99102, cost: 11.38890 \n",
      ">102 theta0: 1.96867, theta1: 1.98958, cost: 11.38784 \n",
      ">103 theta0: 1.96011, theta1: 1.99403, cost: 11.40448 \n",
      ">104 theta0: 1.94882, theta1: 1.98314, cost: 11.49447 \n",
      ">105 theta0: 1.95574, theta1: 1.99472, cost: 11.41205 \n",
      ">106 theta0: 1.94450, theta1: 1.98672, cost: 11.41364 \n",
      ">107 theta0: 1.94386, theta1: 1.99622, cost: 11.43239 \n",
      ">108 theta0: 1.93234, theta1: 1.98576, cost: 11.43145 \n",
      ">109 theta0: 1.93431, theta1: 1.99594, cost: 11.42203 \n",
      ">110 theta0: 1.92297, theta1: 1.98619, cost: 11.42318 \n",
      ">111 theta0: 1.92443, theta1: 1.99624, cost: 11.42270 \n",
      ">112 theta0: 1.91303, theta1: 1.98625, cost: 11.42245 \n",
      ">113 theta0: 1.91475, theta1: 1.99632, cost: 11.41935 \n",
      ">114 theta0: 1.90337, theta1: 1.98641, cost: 11.41976 \n",
      ">115 theta0: 1.90514, theta1: 1.99648, cost: 11.41747 \n",
      ">116 theta0: 1.89376, theta1: 1.98655, cost: 11.41761 \n",
      ">117 theta0: 1.89563, theta1: 1.99661, cost: 11.41515 \n",
      ">118 theta0: 1.88425, theta1: 1.98668, cost: 11.41539 \n",
      ">119 theta0: 1.88621, theta1: 1.99675, cost: 11.41303 \n",
      ">120 theta0: 1.87483, theta1: 1.98682, cost: 11.41323 \n",
      ">121 theta0: 1.87689, theta1: 1.99688, cost: 11.41091 \n",
      ">122 theta0: 1.86551, theta1: 1.98695, cost: 11.41112 \n",
      ">123 theta0: 1.86765, theta1: 1.99702, cost: 11.40884 \n",
      ">124 theta0: 1.85628, theta1: 1.98708, cost: 11.40904 \n",
      ">125 theta0: 1.85851, theta1: 1.99715, cost: 11.40680 \n",
      ">126 theta0: 1.84714, theta1: 1.98721, cost: 11.40700 \n",
      ">127 theta0: 1.84946, theta1: 1.99728, cost: 11.40480 \n",
      ">128 theta0: 1.83809, theta1: 1.98734, cost: 11.40500 \n",
      ">129 theta0: 1.84050, theta1: 1.99741, cost: 11.40284 \n",
      ">130 theta0: 1.82913, theta1: 1.98747, cost: 11.40304 \n",
      ">131 theta0: 1.83163, theta1: 1.99754, cost: 11.40092 \n",
      ">132 theta0: 1.82026, theta1: 1.98760, cost: 11.40111 \n",
      ">133 theta0: 1.82285, theta1: 1.99766, cost: 11.39904 \n",
      ">134 theta0: 1.81148, theta1: 1.98773, cost: 11.39922 \n",
      ">135 theta0: 1.81415, theta1: 1.99779, cost: 11.39719 \n",
      ">136 theta0: 1.80279, theta1: 1.98785, cost: 11.39737 \n",
      ">137 theta0: 1.80555, theta1: 1.99791, cost: 11.39538 \n",
      ">138 theta0: 1.79418, theta1: 1.98797, cost: 11.39556 \n",
      ">139 theta0: 1.79703, theta1: 1.99803, cost: 11.39360 \n",
      ">140 theta0: 1.78567, theta1: 1.98810, cost: 11.39377 \n",
      ">141 theta0: 1.78860, theta1: 1.99816, cost: 11.39186 \n",
      ">142 theta0: 1.77724, theta1: 1.98822, cost: 11.39203 \n",
      ">143 theta0: 1.78026, theta1: 1.99828, cost: 11.39015 \n",
      ">144 theta0: 1.76890, theta1: 1.98834, cost: 11.39031 \n",
      ">145 theta0: 1.77200, theta1: 1.99840, cost: 11.38847 \n",
      ">146 theta0: 1.76064, theta1: 1.98846, cost: 11.38863 \n",
      ">147 theta0: 1.76382, theta1: 1.99851, cost: 11.38682 \n",
      ">148 theta0: 1.75247, theta1: 1.98857, cost: 11.38698 \n",
      ">149 theta0: 1.75573, theta1: 1.99863, cost: 11.38521 \n",
      ">150 theta0: 1.74438, theta1: 1.98869, cost: 11.38537 \n",
      ">151 theta0: 1.74772, theta1: 1.99875, cost: 11.38363 \n",
      ">152 theta0: 1.73637, theta1: 1.98880, cost: 11.38378 \n",
      ">153 theta0: 1.73980, theta1: 1.99886, cost: 11.38208 \n",
      ">154 theta0: 1.72845, theta1: 1.98892, cost: 11.38223 \n",
      ">155 theta0: 1.73195, theta1: 1.99897, cost: 11.38056 \n",
      ">156 theta0: 1.72061, theta1: 1.98903, cost: 11.38070 \n",
      ">157 theta0: 1.72419, theta1: 1.99909, cost: 11.37906 \n",
      ">158 theta0: 1.71285, theta1: 1.98914, cost: 11.37920 \n",
      ">159 theta0: 1.71651, theta1: 1.99920, cost: 11.37760 \n",
      ">160 theta0: 1.70517, theta1: 1.98925, cost: 11.37774 \n",
      ">161 theta0: 1.70890, theta1: 1.99931, cost: 11.37616 \n",
      ">162 theta0: 1.69757, theta1: 1.98936, cost: 11.37630 \n",
      ">163 theta0: 1.70138, theta1: 1.99941, cost: 11.37476 \n",
      ">164 theta0: 1.69005, theta1: 1.98947, cost: 11.37489 \n",
      ">165 theta0: 1.69393, theta1: 1.99952, cost: 11.37338 \n",
      ">166 theta0: 1.68260, theta1: 1.98958, cost: 11.37350 \n",
      ">167 theta0: 1.68657, theta1: 1.99963, cost: 11.37202 \n",
      ">168 theta0: 1.67524, theta1: 1.98968, cost: 11.37214 \n",
      ">169 theta0: 1.67927, theta1: 1.99973, cost: 11.37069 \n",
      ">170 theta0: 1.66795, theta1: 1.98979, cost: 11.37081 \n",
      ">171 theta0: 1.67206, theta1: 1.99984, cost: 11.36939 \n",
      ">172 theta0: 1.66073, theta1: 1.98989, cost: 11.36951 \n",
      ">173 theta0: 1.66491, theta1: 1.99994, cost: 11.36811 \n",
      ">174 theta0: 1.65360, theta1: 1.98999, cost: 11.36823 \n",
      ">175 theta0: 1.65785, theta1: 2.00004, cost: 11.36686 \n",
      ">176 theta0: 1.64653, theta1: 1.99009, cost: 11.36697 \n",
      ">177 theta0: 1.65085, theta1: 2.00014, cost: 11.36563 \n",
      ">178 theta0: 1.63954, theta1: 1.99019, cost: 11.36574 \n",
      ">179 theta0: 1.64393, theta1: 2.00024, cost: 11.36443 \n",
      ">180 theta0: 1.63262, theta1: 1.99029, cost: 11.36453 \n",
      ">181 theta0: 1.63708, theta1: 2.00034, cost: 11.36324 \n",
      ">182 theta0: 1.62578, theta1: 1.99039, cost: 11.36334 \n"
     ]
    },
    {
     "name": "stdout",
     "output_type": "stream",
     "text": [
      ">183 theta0: 1.63030, theta1: 2.00044, cost: 11.36208 \n",
      ">184 theta0: 1.61900, theta1: 1.99049, cost: 11.36218 \n",
      ">185 theta0: 1.62359, theta1: 2.00054, cost: 11.36095 \n",
      ">186 theta0: 1.61230, theta1: 1.99058, cost: 11.36104 \n",
      ">187 theta0: 1.61696, theta1: 2.00063, cost: 11.35983 \n",
      ">188 theta0: 1.60566, theta1: 1.99068, cost: 11.35992 \n",
      ">189 theta0: 1.61039, theta1: 2.00073, cost: 11.35874 \n",
      ">190 theta0: 1.59909, theta1: 1.99077, cost: 11.35882 \n",
      ">191 theta0: 1.60388, theta1: 2.00082, cost: 11.35766 \n",
      ">192 theta0: 1.59259, theta1: 1.99087, cost: 11.35775 \n",
      ">193 theta0: 1.59745, theta1: 2.00091, cost: 11.35661 \n",
      ">194 theta0: 1.58616, theta1: 1.99096, cost: 11.35669 \n",
      ">195 theta0: 1.59108, theta1: 2.00100, cost: 11.35558 \n",
      ">196 theta0: 1.57980, theta1: 1.99105, cost: 11.35565 \n",
      ">197 theta0: 1.58478, theta1: 2.00110, cost: 11.35456 \n",
      ">198 theta0: 1.57350, theta1: 1.99114, cost: 11.35464 \n",
      ">199 theta0: 1.57854, theta1: 2.00119, cost: 11.35357 \n"
     ]
    }
   ],
   "source": [
    "# rmsprop\n",
    "theta0 = 1\n",
    "theta1 = 1\n",
    "eg0 = 0  # бегущие средние квадратов градиента\n",
    "eg1 = 0\n",
    "gamma = 0.3 # коэффициент сохранения\n",
    "lr = 0.01\n",
    "eps = 10e-6\n",
    "\n",
    "EPOCHS = 200\n",
    "\n",
    "for i in range(EPOCHS):\n",
    "    # градиент\n",
    "    dt0 = der_theta0(X, Y, theta0, theta1)\n",
    "    dt1 = der_theta1(X, Y, theta0, theta1)\n",
    "\n",
    "    # в данном методе используем квадраты градиента\n",
    "    eg0 = gamma*eg0 + (1-gamma)*dt0*dt0\n",
    "    eg1 = gamma*eg1 + (1-gamma)*dt1*dt1\n",
    "    \n",
    "    # новые значения параметров\n",
    "    theta0 -= (lr * dt0)/(np.sqrt(eg0 + eps))\n",
    "    theta1 -= (lr * dt1)/(np.sqrt(eg1 + eps))\n",
    "    \n",
    "    print('>%d theta0: %.5f, theta1: %.5f, cost: %.5f ' % (i, theta0, theta1, cost_function(X, Y, theta0, theta1)))"
   ]
  },
  {
   "cell_type": "code",
   "execution_count": null,
   "metadata": {},
   "outputs": [],
   "source": []
  }
 ],
 "metadata": {
  "kernelspec": {
   "display_name": "Python 3",
   "language": "python",
   "name": "python3"
  },
  "language_info": {
   "codemirror_mode": {
    "name": "ipython",
    "version": 3
   },
   "file_extension": ".py",
   "mimetype": "text/x-python",
   "name": "python",
   "nbconvert_exporter": "python",
   "pygments_lexer": "ipython3",
   "version": "3.7.6"
  }
 },
 "nbformat": 4,
 "nbformat_minor": 4
}
